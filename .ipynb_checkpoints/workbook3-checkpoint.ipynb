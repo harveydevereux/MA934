{
 "cells": [
  {
   "cell_type": "markdown",
   "metadata": {},
   "source": [
    "# MA934 Numerical Methods - Workbook 3\n",
    "\n",
    "If you haven't already done so, install the DualNumbers Julia package. It is a good idea to update all your packages first. The commands are\n",
    "\n",
    ">Pkg.update()\n",
    "\n",
    ">Pkg.add(\"DualNumbers\")\n",
    "\n",
    "but you only need to run them once. "
   ]
  },
  {
   "cell_type": "code",
   "execution_count": 1,
   "metadata": {
    "collapsed": true
   },
   "outputs": [],
   "source": [
    "using PyPlot\n",
    "ms = 4\n",
    "using DualNumbers"
   ]
  },
  {
   "cell_type": "markdown",
   "metadata": {},
   "source": [
    "## Question 1: Numerical differentiation\n",
    "\n",
    "**1))** Derive a finite difference formula for the derivative of a function, $f$ at a point $x$ using the 3-point stencil $(x, x+h, x+2h)$ and state the order of the approximation error in terms of $h$.\n",
    "\n",
    "**2)** Write a formula for the derivative, $f^\\prime(x)$, of the function\n",
    "\n",
    "$$f(x) = \\sin(\\exp(x)) $$\n",
    "\n",
    "and evaluate it at $x=1$.\n",
    "\n",
    "**3)** Use your finite difference formula to approximate the value of $f^\\prime(1)$ for values of $h$ decreasing from $2^{-1}$ to $2^{-30}$ in powers of $2$. Plot the error as a function of $h$ and verify the theoretically predicted scaling of the error with $h$. What is the best relative error you can achieve?\n",
    "\n",
    "**4)** Read the examples at https://github.com/JuliaDiff/DualNumbers.jl. Define a dual number $x = 1+\\epsilon$ and use it to evaluate $f^\\prime(1)$. Verify that the answer is accurate to within machine precision."
   ]
  },
  {
   "cell_type": "markdown",
   "metadata": {},
   "source": [
    "## Analytical solutions"
   ]
  },
  {
   "cell_type": "markdown",
   "metadata": {
    "collapsed": true
   },
   "source": [
    "From Taylor's theorem\n",
    "\n",
    "\\begin{align*}\n",
    "    f(x_{i+1})=f(x_{i}+h) &= f(x_{i}) + hf'(x_{i})+\\frac{h^{2}}{2}f''(x_{i}) + O(h^{3}) \\\\\n",
    "    f(x_{i+2})=f(x_{i}+2h) &= f(x_{i}) + 2hf'(x_{i})+\\frac{4h^{2}}{2}f''(x_{i})+O(h^{3})\n",
    "\\end{align*}\n",
    "\n",
    "Now we consider the linear combination\n",
    "\n",
    "\\begin{align*}\n",
    "    a_{1}f(x_{i})+a_{2}f(x_{i+1})+a_{3}f(x_{i+2}) = (a_{1}+a_{2}+a_{3})f(x_{i}) + (a_{2}+2a_{3})hf'(x_{i})+(a_{2}+4a_{3})\\frac{h^{2}}{2}f''(x_{i})+O(h^{3})\n",
    "\\end{align*}\n",
    "\n",
    "We want $f'(x_{i})$ so we solve the system\n",
    "\n",
    "\\begin{align*}\n",
    "    a_{1}+a_{2}+a_{3} &= 0 \\\\\n",
    "    a_{2}+2a_{3} &= 1 \\\\\n",
    "    a_{2}+4a_{3} &= 0\n",
    "\\end{align*}\n",
    "\n",
    "The solution is $a_{1}=-\\frac{3}{2}, a_{2}=2, a_{3}=-\\frac{1}{2}$. Hence we obtain\n",
    "\n",
    "\\begin{align*}\n",
    "    -\\frac{3}{2}f(x_{i})+2f(x_{i+1})-\\frac{1}{2}f(x_{i+2}) = hf'(x_{i})+O(h^{3}) \n",
    "    \\Rightarrow f'(x_{i}) = \\frac{4f(x_{i+1})-3f(x_{i})-f(x_{i+2})}{2h}+O(h^{2})\n",
    "\\end{align*}"
   ]
  },
  {
   "cell_type": "markdown",
   "metadata": {},
   "source": [
    "The derivative is\n",
    "\n",
    "\\begin{align*}\n",
    "    f(x) = \\sin{e^{x}} \\Rightarrow f'(x) = e^{x}\\cos{e^{x}}\n",
    "\\end{align*}"
   ]
  },
  {
   "cell_type": "code",
   "execution_count": 2,
   "metadata": {
    "collapsed": false
   },
   "outputs": [],
   "source": [
    "include(\"modules/numerics.jl\");"
   ]
  },
  {
   "cell_type": "markdown",
   "metadata": {},
   "source": [
    "The above file includes functions to implement $f(x)$ and derivatives as well as the 3-stencil finite difference, bracket-bisection, Newton Raphson, and the Golden search. The signatures are:\n",
    "\n",
    "the function in the question sin(exp(x))\n",
    "f(x)\n",
    "\n",
    "first derivative\n",
    "f¹(x)\n",
    "\n",
    "uses BigFloat arithmetic\n",
    "fb(x) \n",
    "fb¹(x)\n",
    "\n",
    "f²(x)\n",
    "second derivative\n",
    "\n",
    "finite_difference_3(f::Function,x,h)\n",
    "computes the 3 stencil finite difference as above on the function f\n",
    "and evaluates at x with step h between points\n",
    "\n",
    "bracket_bisection(f::Function,a,b,ϵ=eps())\n",
    "implements the bracket-bisection root finding method on f starting \n",
    "with the initial bracketing interval $[a,b]$. tolerence is Float64\n",
    "machine epsilon by default.\n",
    "\n",
    "newton_raphson(f::Function,f¹::Function,x,ϵ=eps())\n",
    "implements the Newton Raphson root finding method on f starting \n",
    "with the initial guess x. tolerence is Float64\n",
    "machine epsilon by default.\n",
    "\n",
    "golden_search(f::Function,BR::Array{Float64,1}, ϵ=eps())\n",
    "finds the local minimum of f using the golden-section search algorithm.\n",
    "\n",
    "(NB1) Initial minimum bracketing interval $BR = [a,b,c]$ where $a<c<b$.\n",
    "\n",
    "(NB2) The last 3 functions all return the root or minimum (whichever is applicable) and the error at each step in vector form."
   ]
  },
  {
   "cell_type": "markdown",
   "metadata": {},
   "source": [
    "## Value of $f'(1)$"
   ]
  },
  {
   "cell_type": "code",
   "execution_count": 3,
   "metadata": {
    "collapsed": false
   },
   "outputs": [
    {
     "name": "stdout",
     "output_type": "stream",
     "text": [
      "-2.478349732955235\n"
     ]
    }
   ],
   "source": [
    "println(f¹(1))"
   ]
  },
  {
   "cell_type": "markdown",
   "metadata": {},
   "source": [
    "## Finite difference\n",
    "\n",
    "The 3-point finite difference on $f(x)$ at $1$ with step $h=0.01$ has\n",
    "the error as shown below, and is about $0.01^{2}$"
   ]
  },
  {
   "cell_type": "code",
   "execution_count": 4,
   "metadata": {
    "collapsed": false
   },
   "outputs": [
    {
     "name": "stdout",
     "output_type": "stream",
     "text": [
      "3-stencil finite difference error = 0.00025201174088351763\n"
     ]
    }
   ],
   "source": [
    "println(\"3-stencil finite difference error = \",abs(finite_difference_3(f,1,0.01)-f¹(1)))"
   ]
  },
  {
   "cell_type": "code",
   "execution_count": 15,
   "metadata": {
    "collapsed": false
   },
   "outputs": [
    {
     "data": {
      "image/png": "[encoded data removed]",
      "text/plain": [
       "PyPlot.Figure(PyObject <matplotlib.figure.Figure object at 0x12058c810>)"
      ]
     },
     "metadata": {},
     "output_type": "display_data"
    },
    {
     "name": "stdout",
     "output_type": "stream",
     "text": [
      "Best relative error: 3.235804591808173539770056954141668794256512755832172233588865465805716933365775e-11\n"
     ]
    },
    {
     "name": "stderr",
     "output_type": "stream",
     "text": [
      "\u001b[1m\u001b[33mWARNING: \u001b[39m\u001b[22m\u001b[33mabs{T <: Number}(x::AbstractArray{T}) is deprecated, use abs.(x) instead.\u001b[39m\n",
      "Stacktrace:\n",
      " [1] \u001b[1mdepwarn\u001b[22m\u001b[22m\u001b[1m(\u001b[22m\u001b[22m::String, ::Symbol\u001b[1m)\u001b[22m\u001b[22m at \u001b[1m./deprecated.jl:70\u001b[22m\u001b[22m\n",
      " [2] \u001b[1mabs\u001b[22m\u001b[22m\u001b[1m(\u001b[22m\u001b[22m::Array{BigFloat,1}\u001b[1m)\u001b[22m\u001b[22m at \u001b[1m./deprecated.jl:57\u001b[22m\u001b[22m\n",
      " [3] \u001b[1minclude_string\u001b[22m\u001b[22m\u001b[1m(\u001b[22m\u001b[22m::String, ::String\u001b[1m)\u001b[22m\u001b[22m at \u001b[1m./loading.jl:515\u001b[22m\u001b[22m\n",
      " [4] \u001b[1minclude_string\u001b[22m\u001b[22m\u001b[1m(\u001b[22m\u001b[22m::Module, ::String, ::String\u001b[1m)\u001b[22m\u001b[22m at \u001b[1m/Users/colmconnaughton/.julia/v0.6/Compat/src/Compat.jl:174\u001b[22m\u001b[22m\n",
      " [5] \u001b[1mexecute_request\u001b[22m\u001b[22m\u001b[1m(\u001b[22m\u001b[22m::ZMQ.Socket, ::IJulia.Msg\u001b[1m)\u001b[22m\u001b[22m at \u001b[1m/Users/colmconnaughton/.julia/v0.6/IJulia/src/execute_request.jl:154\u001b[22m\u001b[22m\n",
      " [6] \u001b[1meventloop\u001b[22m\u001b[22m\u001b[1m(\u001b[22m\u001b[22m::ZMQ.Socket\u001b[1m)\u001b[22m\u001b[22m at \u001b[1m/Users/colmconnaughton/.julia/v0.6/IJulia/src/eventloop.jl:8\u001b[22m\u001b[22m\n",
      " [7] \u001b[1m(::IJulia.##14#17)\u001b[22m\u001b[22m\u001b[1m(\u001b[22m\u001b[22m\u001b[1m)\u001b[22m\u001b[22m at \u001b[1m./task.jl:335\u001b[22m\u001b[22m\n",
      "while loading In[15], in expression starting on line 18\n"
     ]
    }
   ],
   "source": [
    "H = []\n",
    "for i in 1:30\n",
    "    append!(H,2.0^(-i))\n",
    "end\n",
    "\n",
    "Exact = f¹(BigFloat(1))\n",
    "FD = zeros(length(H));\n",
    "\n",
    "for i in 1:length(H)\n",
    "    FD[i] = finite_difference_3(f,1.0,H[i])\n",
    "end\n",
    "\n",
    "loglog(H, Array{Float64}(abs.((FD-Exact)./Exact)), label=\"Observed relative error\", \"s\", markersize=ms)\n",
    "loglog(H,H.^2, label=\"Theoretical error, \"L\"O(h^{2})\", \"^\", markersize=ms)\n",
    "title(\"A log-log plot showing the relative error of the \\n 3-stencil finite difference method on \"L\"f(x) = \\sin(e^{x})\")\n",
    "xlabel(L\"h\"\", point separation\")\n",
    "ylabel(\"Relative error\")\n",
    "println(\"Best relative error: \", minimum(abs((FD-Exact)./Exact)))\n",
    "legend()\n",
    "grid()"
   ]
  },
  {
   "cell_type": "markdown",
   "metadata": {},
   "source": [
    "This best error is a few orders of magnitude greater than the machine epsilon for Float64, which is"
   ]
  },
  {
   "cell_type": "code",
   "execution_count": 6,
   "metadata": {
    "collapsed": false
   },
   "outputs": [
    {
     "name": "stdout",
     "output_type": "stream",
     "text": [
      "Mahcine epsilon (Float64), ϵₘ = 2.220446049250313e-16\n"
     ]
    }
   ],
   "source": [
    "println(\"Mahcine epsilon (Float64), ϵₘ = \", eps())"
   ]
  },
  {
   "cell_type": "markdown",
   "metadata": {},
   "source": [
    "The dual part of $f(Dual(x))$ gives the derivative when evaluated, as shown below. It appears to be lower than the machine epsilon for Float64"
   ]
  },
  {
   "cell_type": "code",
   "execution_count": 7,
   "metadata": {
    "collapsed": false
   },
   "outputs": [
    {
     "name": "stdout",
     "output_type": "stream",
     "text": [
      "Error: 1.4835229507361194e-17\n"
     ]
    }
   ],
   "source": [
    "# Dual128 gives Dual(Float64,Float64)\n",
    "# just being explicit\n",
    "x = Dual128(1.0,1.0)\n",
    "f(x)\n",
    "derivative = dualpart(f(x))\n",
    "println(\"Error: \", Float64(abs((Exact-derivative)/Exact)))"
   ]
  },
  {
   "cell_type": "markdown",
   "metadata": {},
   "source": [
    "<font color=blue>\n",
    "Excellent answer: 15/15\n",
    "</font>"
   ]
  },
  {
   "cell_type": "markdown",
   "metadata": {},
   "source": [
    "## Further questions\n",
    "\n",
    "I have left these in the notbook because I did them before Friday's class where we decided on what is examinable."
   ]
  },
  {
   "cell_type": "markdown",
   "metadata": {},
   "source": [
    "## Question 2: Finding roots\n",
    "\n",
    "**1)** Referring to the function, $f(x)$, defined above, find the roots of the equation\n",
    "\n",
    "$$ f(x) = 0$$\n",
    "\n",
    "in the interval $0<x<2$.\n",
    "\n",
    "**2)** Implement the bracketing and bisection method to find one of the roots numerically. Measure the error at each iteration of the algorithm and demonstrate that the error decreases exponentially as a function of the number of iterations. To how many digits of precision can you approximate the root?\n",
    "\n",
    "**3)** Perform the same measurements for the Newton Raphson method and show that the error decreases faster than exponentially as a function of the number of iterations."
   ]
  },
  {
   "cell_type": "markdown",
   "metadata": {
    "collapsed": true
   },
   "source": [
    "For $x\\in(0,2)$ the function $f(x) = \\sin(e^{x})$ has the roots\n",
    "$x_{1},x_{2} = \\ln(\\pi), \\ln(2\\pi)$."
   ]
  },
  {
   "cell_type": "code",
   "execution_count": 8,
   "metadata": {
    "collapsed": false
   },
   "outputs": [
    {
     "ename": "LoadError",
     "evalue": "\u001b[91mPyError (ccall(@pysym(:PyImport_ImportModule), PyPtr, (Cstring,), name)\n\nThe Python package mpmath could not be found by pyimport. Usually this means\nthat you did not install mpmath in the Python version being used by PyCall.\n\nPyCall is currently configured to use the Julia-specific Python distribution\ninstalled by the Conda.jl package.  To install the mpmath module, you can\nuse `pyimport_conda(\"mpmath\", PKG)`, where PKG is the Anaconda\npackage the contains the module mpmath, or alternatively you can use the\nConda package directly (via `using Conda` followed by `Conda.add` etcetera).\n\nAlternatively, if you want to use a different Python distribution on your\nsystem, such as a system-wide Python (as opposed to the Julia-specific Python),\nyou can re-configure PyCall with that Python.   As explained in the PyCall\ndocumentation, set ENV[\"PYTHON\"] to the path/name of the python executable\nyou want to use, run Pkg.build(\"PyCall\"), and re-launch Julia.\n\n) <type 'exceptions.ImportError'>\nImportError('No module named mpmath',)\n\u001b[39m",
     "output_type": "error",
     "traceback": [
      "\u001b[91mPyError (ccall(@pysym(:PyImport_ImportModule), PyPtr, (Cstring,), name)\n\nThe Python package mpmath could not be found by pyimport. Usually this means\nthat you did not install mpmath in the Python version being used by PyCall.\n\nPyCall is currently configured to use the Julia-specific Python distribution\ninstalled by the Conda.jl package.  To install the mpmath module, you can\nuse `pyimport_conda(\"mpmath\", PKG)`, where PKG is the Anaconda\npackage the contains the module mpmath, or alternatively you can use the\nConda package directly (via `using Conda` followed by `Conda.add` etcetera).\n\nAlternatively, if you want to use a different Python distribution on your\nsystem, such as a system-wide Python (as opposed to the Julia-specific Python),\nyou can re-configure PyCall with that Python.   As explained in the PyCall\ndocumentation, set ENV[\"PYTHON\"] to the path/name of the python executable\nyou want to use, run Pkg.build(\"PyCall\"), and re-launch Julia.\n\n) <type 'exceptions.ImportError'>\nImportError('No module named mpmath',)\n\u001b[39m",
      "",
      "Stacktrace:",
      " [1] \u001b[1mpyerr_check\u001b[22m\u001b[22m at \u001b[1m/Users/colmconnaughton/.julia/v0.6/PyCall/src/exception.jl:56\u001b[22m\u001b[22m [inlined]",
      " [2] \u001b[1mpyerr_check\u001b[22m\u001b[22m at \u001b[1m/Users/colmconnaughton/.julia/v0.6/PyCall/src/exception.jl:61\u001b[22m\u001b[22m [inlined]",
      " [3] \u001b[1mmacro expansion\u001b[22m\u001b[22m at \u001b[1m/Users/colmconnaughton/.julia/v0.6/PyCall/src/exception.jl:81\u001b[22m\u001b[22m [inlined]",
      " [4] \u001b[1mpyimport\u001b[22m\u001b[22m\u001b[1m(\u001b[22m\u001b[22m::String\u001b[1m)\u001b[22m\u001b[22m at \u001b[1m/Users/colmconnaughton/.julia/v0.6/PyCall/src/PyCall.jl:374\u001b[22m\u001b[22m",
      " [5] \u001b[1mmpmath_init\u001b[22m\u001b[22m\u001b[1m(\u001b[22m\u001b[22m\u001b[1m)\u001b[22m\u001b[22m at \u001b[1m/Users/colmconnaughton/.julia/v0.6/PyCall/src/conversions.jl:616\u001b[22m\u001b[22m",
      " [6] \u001b[1mPyCall.PyObject\u001b[22m\u001b[22m\u001b[1m(\u001b[22m\u001b[22m::BigFloat\u001b[1m)\u001b[22m\u001b[22m at \u001b[1m/Users/colmconnaughton/.julia/v0.6/PyCall/src/conversions.jl:633\u001b[22m\u001b[22m",
      " [7] \u001b[1marray2py\u001b[22m\u001b[22m\u001b[1m(\u001b[22m\u001b[22m::Array{Any,1}, ::Int64, ::Int64\u001b[1m)\u001b[22m\u001b[22m at \u001b[1m/Users/colmconnaughton/.julia/v0.6/PyCall/src/conversions.jl:293\u001b[22m\u001b[22m",
      " [8] \u001b[1mPyCall.PyObject\u001b[22m\u001b[22m\u001b[1m(\u001b[22m\u001b[22m::Array{Any,1}\u001b[1m)\u001b[22m\u001b[22m at \u001b[1m/Users/colmconnaughton/.julia/v0.6/PyCall/src/conversions.jl:315\u001b[22m\u001b[22m",
      " [9] \u001b[1mmap\u001b[22m\u001b[22m\u001b[1m(\u001b[22m\u001b[22m::Type{T} where T, ::Tuple{StepRange{Int64,Int64},Array{Any,1},String}\u001b[1m)\u001b[22m\u001b[22m at \u001b[1m./tuple.jl:160\u001b[22m\u001b[22m",
      " [10] \u001b[1m#_pycall#67\u001b[22m\u001b[22m\u001b[1m(\u001b[22m\u001b[22m::Array{Any,1}, ::Function, ::PyCall.PyObject, ::StepRange{Int64,Int64}, ::Vararg{Any,N} where N\u001b[1m)\u001b[22m\u001b[22m at \u001b[1m/Users/colmconnaughton/.julia/v0.6/PyCall/src/PyCall.jl:641\u001b[22m\u001b[22m",
      " [11] \u001b[1m(::PyCall.#kw##_pycall)\u001b[22m\u001b[22m\u001b[1m(\u001b[22m\u001b[22m::Array{Any,1}, ::PyCall.#_pycall, ::PyCall.PyObject, ::StepRange{Int64,Int64}, ::Vararg{Any,N} where N\u001b[1m)\u001b[22m\u001b[22m at \u001b[1m./<missing>:0\u001b[22m\u001b[22m",
      " [12] \u001b[1m#pycall#71\u001b[22m\u001b[22m\u001b[1m(\u001b[22m\u001b[22m::Array{Any,1}, ::Function, ::PyCall.PyObject, ::Type{PyCall.PyAny}, ::StepRange{Int64,Int64}, ::Vararg{Any,N} where N\u001b[1m)\u001b[22m\u001b[22m at \u001b[1m/Users/colmconnaughton/.julia/v0.6/PyCall/src/PyCall.jl:675\u001b[22m\u001b[22m",
      " [13] \u001b[1m(::PyCall.#kw##pycall)\u001b[22m\u001b[22m\u001b[1m(\u001b[22m\u001b[22m::Array{Any,1}, ::PyCall.#pycall, ::PyCall.PyObject, ::Type{PyCall.PyAny}, ::StepRange{Int64,Int64}, ::Vararg{Any,N} where N\u001b[1m)\u001b[22m\u001b[22m at \u001b[1m./<missing>:0\u001b[22m\u001b[22m",
      " [14] \u001b[1m#semilogy#102\u001b[22m\u001b[22m\u001b[1m(\u001b[22m\u001b[22m::Array{Any,1}, ::Function, ::StepRange{Int64,Int64}, ::Vararg{Any,N} where N\u001b[1m)\u001b[22m\u001b[22m at \u001b[1m/Users/colmconnaughton/.julia/v0.6/PyPlot/src/PyPlot.jl:172\u001b[22m\u001b[22m",
      " [15] \u001b[1m(::PyPlot.#kw##semilogy)\u001b[22m\u001b[22m\u001b[1m(\u001b[22m\u001b[22m::Array{Any,1}, ::PyPlot.#semilogy, ::StepRange{Int64,Int64}, ::Vararg{Any,N} where N\u001b[1m)\u001b[22m\u001b[22m at \u001b[1m./<missing>:0\u001b[22m\u001b[22m",
      " [16] \u001b[1minclude_string\u001b[22m\u001b[22m\u001b[1m(\u001b[22m\u001b[22m::String, ::String\u001b[1m)\u001b[22m\u001b[22m at \u001b[1m./loading.jl:515\u001b[22m\u001b[22m"
     ]
    }
   ],
   "source": [
    "\n",
    "\n",
    "root, error = bracket_bisection(f,0.5,1.25);\n",
    "x = 1:1:length(error)\n",
    "\n",
    "semilogy(x,error, label=\"Observed error\", \"s\", markersize=ms)\n",
    "\n",
    "println(\"Root: \", root)\n",
    "\n",
    "println(\"Best Error: \", Float64(minimum(error)))\n",
    "title(\"lin-log plot showing the exponential decay of the \\n error for the bracket biscetion method\")\n",
    "xlabel(\"Iteration number\")\n",
    "ylabel(\"Error (log scale)\")\n",
    "grid()\n",
    "legend()"
   ]
  },
  {
   "cell_type": "code",
   "execution_count": 9,
   "metadata": {
    "collapsed": false
   },
   "outputs": [
    {
     "ename": "LoadError",
     "evalue": "\u001b[91mPyError (ccall(@pysym(:PyImport_ImportModule), PyPtr, (Cstring,), name)\n\nThe Python package mpmath could not be found by pyimport. Usually this means\nthat you did not install mpmath in the Python version being used by PyCall.\n\nPyCall is currently configured to use the Julia-specific Python distribution\ninstalled by the Conda.jl package.  To install the mpmath module, you can\nuse `pyimport_conda(\"mpmath\", PKG)`, where PKG is the Anaconda\npackage the contains the module mpmath, or alternatively you can use the\nConda package directly (via `using Conda` followed by `Conda.add` etcetera).\n\nAlternatively, if you want to use a different Python distribution on your\nsystem, such as a system-wide Python (as opposed to the Julia-specific Python),\nyou can re-configure PyCall with that Python.   As explained in the PyCall\ndocumentation, set ENV[\"PYTHON\"] to the path/name of the python executable\nyou want to use, run Pkg.build(\"PyCall\"), and re-launch Julia.\n\n) <type 'exceptions.ImportError'>\nImportError('No module named mpmath',)\n\u001b[39m",
     "output_type": "error",
     "traceback": [
      "\u001b[91mPyError (ccall(@pysym(:PyImport_ImportModule), PyPtr, (Cstring,), name)\n\nThe Python package mpmath could not be found by pyimport. Usually this means\nthat you did not install mpmath in the Python version being used by PyCall.\n\nPyCall is currently configured to use the Julia-specific Python distribution\ninstalled by the Conda.jl package.  To install the mpmath module, you can\nuse `pyimport_conda(\"mpmath\", PKG)`, where PKG is the Anaconda\npackage the contains the module mpmath, or alternatively you can use the\nConda package directly (via `using Conda` followed by `Conda.add` etcetera).\n\nAlternatively, if you want to use a different Python distribution on your\nsystem, such as a system-wide Python (as opposed to the Julia-specific Python),\nyou can re-configure PyCall with that Python.   As explained in the PyCall\ndocumentation, set ENV[\"PYTHON\"] to the path/name of the python executable\nyou want to use, run Pkg.build(\"PyCall\"), and re-launch Julia.\n\n) <type 'exceptions.ImportError'>\nImportError('No module named mpmath',)\n\u001b[39m",
      "",
      "Stacktrace:",
      " [1] \u001b[1mpyerr_check\u001b[22m\u001b[22m at \u001b[1m/Users/colmconnaughton/.julia/v0.6/PyCall/src/exception.jl:56\u001b[22m\u001b[22m [inlined]",
      " [2] \u001b[1mpyerr_check\u001b[22m\u001b[22m at \u001b[1m/Users/colmconnaughton/.julia/v0.6/PyCall/src/exception.jl:61\u001b[22m\u001b[22m [inlined]",
      " [3] \u001b[1mmacro expansion\u001b[22m\u001b[22m at \u001b[1m/Users/colmconnaughton/.julia/v0.6/PyCall/src/exception.jl:81\u001b[22m\u001b[22m [inlined]",
      " [4] \u001b[1mpyimport\u001b[22m\u001b[22m\u001b[1m(\u001b[22m\u001b[22m::String\u001b[1m)\u001b[22m\u001b[22m at \u001b[1m/Users/colmconnaughton/.julia/v0.6/PyCall/src/PyCall.jl:374\u001b[22m\u001b[22m",
      " [5] \u001b[1mmpmath_init\u001b[22m\u001b[22m\u001b[1m(\u001b[22m\u001b[22m\u001b[1m)\u001b[22m\u001b[22m at \u001b[1m/Users/colmconnaughton/.julia/v0.6/PyCall/src/conversions.jl:616\u001b[22m\u001b[22m",
      " [6] \u001b[1mPyCall.PyObject\u001b[22m\u001b[22m\u001b[1m(\u001b[22m\u001b[22m::BigFloat\u001b[1m)\u001b[22m\u001b[22m at \u001b[1m/Users/colmconnaughton/.julia/v0.6/PyCall/src/conversions.jl:633\u001b[22m\u001b[22m",
      " [7] \u001b[1marray2py\u001b[22m\u001b[22m\u001b[1m(\u001b[22m\u001b[22m::Array{Any,1}, ::Int64, ::Int64\u001b[1m)\u001b[22m\u001b[22m at \u001b[1m/Users/colmconnaughton/.julia/v0.6/PyCall/src/conversions.jl:293\u001b[22m\u001b[22m",
      " [8] \u001b[1mPyCall.PyObject\u001b[22m\u001b[22m\u001b[1m(\u001b[22m\u001b[22m::Array{Any,1}\u001b[1m)\u001b[22m\u001b[22m at \u001b[1m/Users/colmconnaughton/.julia/v0.6/PyCall/src/conversions.jl:315\u001b[22m\u001b[22m",
      " [9] \u001b[1mmap\u001b[22m\u001b[22m\u001b[1m(\u001b[22m\u001b[22m::Type{T} where T, ::Tuple{StepRange{Int64,Int64},Array{Any,1}}\u001b[1m)\u001b[22m\u001b[22m at \u001b[1m./tuple.jl:159\u001b[22m\u001b[22m",
      " [10] \u001b[1m#_pycall#67\u001b[22m\u001b[22m\u001b[1m(\u001b[22m\u001b[22m::Array{Any,1}, ::Function, ::PyCall.PyObject, ::StepRange{Int64,Int64}, ::Vararg{Any,N} where N\u001b[1m)\u001b[22m\u001b[22m at \u001b[1m/Users/colmconnaughton/.julia/v0.6/PyCall/src/PyCall.jl:641\u001b[22m\u001b[22m",
      " [11] \u001b[1m_pycall\u001b[22m\u001b[22m\u001b[1m(\u001b[22m\u001b[22m::PyCall.PyObject, ::StepRange{Int64,Int64}, ::Vararg{Any,N} where N\u001b[1m)\u001b[22m\u001b[22m at \u001b[1m/Users/colmconnaughton/.julia/v0.6/PyCall/src/PyCall.jl:641\u001b[22m\u001b[22m",
      " [12] \u001b[1m#pycall#71\u001b[22m\u001b[22m\u001b[1m(\u001b[22m\u001b[22m::Array{Any,1}, ::Function, ::PyCall.PyObject, ::Type{PyCall.PyAny}, ::StepRange{Int64,Int64}, ::Vararg{Any,N} where N\u001b[1m)\u001b[22m\u001b[22m at \u001b[1m/Users/colmconnaughton/.julia/v0.6/PyCall/src/PyCall.jl:675\u001b[22m\u001b[22m",
      " [13] \u001b[1mpycall\u001b[22m\u001b[22m\u001b[1m(\u001b[22m\u001b[22m::PyCall.PyObject, ::Type{PyCall.PyAny}, ::StepRange{Int64,Int64}, ::Vararg{Any,N} where N\u001b[1m)\u001b[22m\u001b[22m at \u001b[1m/Users/colmconnaughton/.julia/v0.6/PyCall/src/PyCall.jl:675\u001b[22m\u001b[22m",
      " [14] \u001b[1m#semilogy#102\u001b[22m\u001b[22m\u001b[1m(\u001b[22m\u001b[22m::Array{Any,1}, ::Function, ::StepRange{Int64,Int64}, ::Vararg{Any,N} where N\u001b[1m)\u001b[22m\u001b[22m at \u001b[1m/Users/colmconnaughton/.julia/v0.6/PyPlot/src/PyPlot.jl:172\u001b[22m\u001b[22m",
      " [15] \u001b[1msemilogy\u001b[22m\u001b[22m\u001b[1m(\u001b[22m\u001b[22m::StepRange{Int64,Int64}, ::Vararg{Any,N} where N\u001b[1m)\u001b[22m\u001b[22m at \u001b[1m/Users/colmconnaughton/.julia/v0.6/PyPlot/src/PyPlot.jl:169\u001b[22m\u001b[22m",
      " [16] \u001b[1minclude_string\u001b[22m\u001b[22m\u001b[1m(\u001b[22m\u001b[22m::String, ::String\u001b[1m)\u001b[22m\u001b[22m at \u001b[1m./loading.jl:515\u001b[22m\u001b[22m"
     ]
    }
   ],
   "source": [
    "root, error = newton_raphson(f,f¹,1.0)\n",
    "\n",
    "n = 1:1:length(error)\n",
    "\n",
    "semilogy(n,error)\n",
    "semilogy(n,exp(-n))\n",
    "semilogy(n,error, label=\"Observed error\", \"s\", markersize=ms)\n",
    "semilogy(n,exp(-n), label=\"Reference exponential decay\", \"^\", markersize=ms)\n",
    "\n",
    "println(\"Best Error: \", Float64(minimum(error)))\n",
    "title(\"lin-log plot showing the exponential decay of the \\n error for the Newton-Raphson method\")\n",
    "xlabel(\"Iteration number\")\n",
    "ylabel(\"Error (log scale)\")\n",
    "grid()\n",
    "legend()"
   ]
  },
  {
   "cell_type": "markdown",
   "metadata": {},
   "source": [
    "## Question 3: Finding minima\n",
    "\n",
    "**1)** The function $f(x)$ above has a single minimum in the interval $0<x<2$. Find its location analytically.\n",
    "\n",
    "**2)** Implement the Golden section search to find the location of this minimum numerically. Plot the error as a function of the number of iterations. To how many digits of precision can you approximate the location of the minimum?\n",
    "\n",
    "**3)** To understand your empirical findings, use Taylor's Theorem to show that near a minimum, $x_*$, of f(x),\n",
    "\n",
    "$$f(x) \\approx f(x_*)\\left( 1+ \\frac{f^{\\prime\\prime}(x_*)}{2\\,f(x_*)}\\,(x-x_*)^2\\right). $$\n",
    "Show that in order for a computer to distinguish between $f(x)$ and $f(x_*)$ we must have\n",
    "\n",
    "$$ \\left| x-x_*\\right| > \\sqrt{\\epsilon_m}\\,\\sqrt{\\left|\\frac{2\\,f(x_*)}{f^{\\prime\\prime}(x_*)}\\right|}$$\n",
    "\n",
    "thus limiting the precision with which the location of a minimum can be determined."
   ]
  },
  {
   "cell_type": "markdown",
   "metadata": {},
   "source": [
    "The function $f(x)=\\sin(e^{x})$ has the first and second derivatives\n",
    "\n",
    "\\begin{align*}\n",
    "    f'(x) = e^{x}\\cos{e^{x}}, \\enspace f''(x) = e^{x}\\cos{e^{x}}-\\sin{e^{x}}e^{2x}\n",
    "\\end{align*}\n",
    "\n",
    "For the minimum, in the interval $(0,2)$, we need $f'(x)=0\\Rightarrow x=\\ln(\\pi/2),\\ln(3\\pi/2)$, and also $f''(x)>0$ so the minimum point must be $x_{min}=\\ln(3\\pi/2)$. "
   ]
  },
  {
   "cell_type": "markdown",
   "metadata": {},
   "source": [
    "Below is a plot to find a good guess at a minimum bracketing range."
   ]
  },
  {
   "cell_type": "code",
   "execution_count": 10,
   "metadata": {
    "collapsed": false
   },
   "outputs": [
    {
     "data": {
      "image/png": "[encoded data removed]",
      "text/plain": [
       "PyPlot.Figure(PyObject <matplotlib.figure.Figure object at 0x120258650>)"
      ]
     },
     "metadata": {},
     "output_type": "display_data"
    },
    {
     "data": {
      "text/plain": [
       "PyObject <matplotlib.text.Text object at 0x120510b10>"
      ]
     },
     "execution_count": 10,
     "metadata": {},
     "output_type": "execute_result"
    }
   ],
   "source": [
    "x = 0:0.01:2\n",
    "plot(x,f(x))\n",
    "# hence bracketing region of [1.0 1.9 1.75]\n",
    "title(\"Gaph of \"L\"f(x)=\\sin(\\exp(x))\")\n",
    "xlabel(\"x\")\n",
    "ylabel(\"f(x)\")"
   ]
  },
  {
   "cell_type": "code",
   "execution_count": 11,
   "metadata": {
    "collapsed": false
   },
   "outputs": [
    {
     "ename": "LoadError",
     "evalue": "\u001b[91mPyError (ccall(@pysym(:PyImport_ImportModule), PyPtr, (Cstring,), name)\n\nThe Python package mpmath could not be found by pyimport. Usually this means\nthat you did not install mpmath in the Python version being used by PyCall.\n\nPyCall is currently configured to use the Julia-specific Python distribution\ninstalled by the Conda.jl package.  To install the mpmath module, you can\nuse `pyimport_conda(\"mpmath\", PKG)`, where PKG is the Anaconda\npackage the contains the module mpmath, or alternatively you can use the\nConda package directly (via `using Conda` followed by `Conda.add` etcetera).\n\nAlternatively, if you want to use a different Python distribution on your\nsystem, such as a system-wide Python (as opposed to the Julia-specific Python),\nyou can re-configure PyCall with that Python.   As explained in the PyCall\ndocumentation, set ENV[\"PYTHON\"] to the path/name of the python executable\nyou want to use, run Pkg.build(\"PyCall\"), and re-launch Julia.\n\n) <type 'exceptions.ImportError'>\nImportError('No module named mpmath',)\n\u001b[39m",
     "output_type": "error",
     "traceback": [
      "\u001b[91mPyError (ccall(@pysym(:PyImport_ImportModule), PyPtr, (Cstring,), name)\n\nThe Python package mpmath could not be found by pyimport. Usually this means\nthat you did not install mpmath in the Python version being used by PyCall.\n\nPyCall is currently configured to use the Julia-specific Python distribution\ninstalled by the Conda.jl package.  To install the mpmath module, you can\nuse `pyimport_conda(\"mpmath\", PKG)`, where PKG is the Anaconda\npackage the contains the module mpmath, or alternatively you can use the\nConda package directly (via `using Conda` followed by `Conda.add` etcetera).\n\nAlternatively, if you want to use a different Python distribution on your\nsystem, such as a system-wide Python (as opposed to the Julia-specific Python),\nyou can re-configure PyCall with that Python.   As explained in the PyCall\ndocumentation, set ENV[\"PYTHON\"] to the path/name of the python executable\nyou want to use, run Pkg.build(\"PyCall\"), and re-launch Julia.\n\n) <type 'exceptions.ImportError'>\nImportError('No module named mpmath',)\n\u001b[39m",
      "",
      "Stacktrace:",
      " [1] \u001b[1mpyerr_check\u001b[22m\u001b[22m at \u001b[1m/Users/colmconnaughton/.julia/v0.6/PyCall/src/exception.jl:56\u001b[22m\u001b[22m [inlined]",
      " [2] \u001b[1mpyerr_check\u001b[22m\u001b[22m at \u001b[1m/Users/colmconnaughton/.julia/v0.6/PyCall/src/exception.jl:61\u001b[22m\u001b[22m [inlined]",
      " [3] \u001b[1mmacro expansion\u001b[22m\u001b[22m at \u001b[1m/Users/colmconnaughton/.julia/v0.6/PyCall/src/exception.jl:81\u001b[22m\u001b[22m [inlined]",
      " [4] \u001b[1mpyimport\u001b[22m\u001b[22m\u001b[1m(\u001b[22m\u001b[22m::String\u001b[1m)\u001b[22m\u001b[22m at \u001b[1m/Users/colmconnaughton/.julia/v0.6/PyCall/src/PyCall.jl:374\u001b[22m\u001b[22m",
      " [5] \u001b[1mmpmath_init\u001b[22m\u001b[22m\u001b[1m(\u001b[22m\u001b[22m\u001b[1m)\u001b[22m\u001b[22m at \u001b[1m/Users/colmconnaughton/.julia/v0.6/PyCall/src/conversions.jl:616\u001b[22m\u001b[22m",
      " [6] \u001b[1mPyCall.PyObject\u001b[22m\u001b[22m\u001b[1m(\u001b[22m\u001b[22m::BigFloat\u001b[1m)\u001b[22m\u001b[22m at \u001b[1m/Users/colmconnaughton/.julia/v0.6/PyCall/src/conversions.jl:633\u001b[22m\u001b[22m",
      " [7] \u001b[1marray2py\u001b[22m\u001b[22m\u001b[1m(\u001b[22m\u001b[22m::Array{Any,1}, ::Int64, ::Int64\u001b[1m)\u001b[22m\u001b[22m at \u001b[1m/Users/colmconnaughton/.julia/v0.6/PyCall/src/conversions.jl:293\u001b[22m\u001b[22m",
      " [8] \u001b[1mPyCall.PyObject\u001b[22m\u001b[22m\u001b[1m(\u001b[22m\u001b[22m::Array{Any,1}\u001b[1m)\u001b[22m\u001b[22m at \u001b[1m/Users/colmconnaughton/.julia/v0.6/PyCall/src/conversions.jl:315\u001b[22m\u001b[22m",
      " [9] \u001b[1mmap\u001b[22m\u001b[22m\u001b[1m(\u001b[22m\u001b[22m::Type{T} where T, ::Tuple{StepRange{Int64,Int64},Array{Any,1},String}\u001b[1m)\u001b[22m\u001b[22m at \u001b[1m./tuple.jl:160\u001b[22m\u001b[22m",
      " [10] \u001b[1m#_pycall#67\u001b[22m\u001b[22m\u001b[1m(\u001b[22m\u001b[22m::Array{Any,1}, ::Function, ::PyCall.PyObject, ::StepRange{Int64,Int64}, ::Vararg{Any,N} where N\u001b[1m)\u001b[22m\u001b[22m at \u001b[1m/Users/colmconnaughton/.julia/v0.6/PyCall/src/PyCall.jl:641\u001b[22m\u001b[22m",
      " [11] \u001b[1m(::PyCall.#kw##_pycall)\u001b[22m\u001b[22m\u001b[1m(\u001b[22m\u001b[22m::Array{Any,1}, ::PyCall.#_pycall, ::PyCall.PyObject, ::StepRange{Int64,Int64}, ::Vararg{Any,N} where N\u001b[1m)\u001b[22m\u001b[22m at \u001b[1m./<missing>:0\u001b[22m\u001b[22m",
      " [12] \u001b[1m#pycall#71\u001b[22m\u001b[22m\u001b[1m(\u001b[22m\u001b[22m::Array{Any,1}, ::Function, ::PyCall.PyObject, ::Type{PyCall.PyAny}, ::StepRange{Int64,Int64}, ::Vararg{Any,N} where N\u001b[1m)\u001b[22m\u001b[22m at \u001b[1m/Users/colmconnaughton/.julia/v0.6/PyCall/src/PyCall.jl:675\u001b[22m\u001b[22m",
      " [13] \u001b[1m(::PyCall.#kw##pycall)\u001b[22m\u001b[22m\u001b[1m(\u001b[22m\u001b[22m::Array{Any,1}, ::PyCall.#pycall, ::PyCall.PyObject, ::Type{PyCall.PyAny}, ::StepRange{Int64,Int64}, ::Vararg{Any,N} where N\u001b[1m)\u001b[22m\u001b[22m at \u001b[1m./<missing>:0\u001b[22m\u001b[22m",
      " [14] \u001b[1m#semilogy#102\u001b[22m\u001b[22m\u001b[1m(\u001b[22m\u001b[22m::Array{Any,1}, ::Function, ::StepRange{Int64,Int64}, ::Vararg{Any,N} where N\u001b[1m)\u001b[22m\u001b[22m at \u001b[1m/Users/colmconnaughton/.julia/v0.6/PyPlot/src/PyPlot.jl:172\u001b[22m\u001b[22m",
      " [15] \u001b[1m(::PyPlot.#kw##semilogy)\u001b[22m\u001b[22m\u001b[1m(\u001b[22m\u001b[22m::Array{Any,1}, ::PyPlot.#semilogy, ::StepRange{Int64,Int64}, ::Vararg{Any,N} where N\u001b[1m)\u001b[22m\u001b[22m at \u001b[1m./<missing>:0\u001b[22m\u001b[22m",
      " [16] \u001b[1minclude_string\u001b[22m\u001b[22m\u001b[1m(\u001b[22m\u001b[22m::String, ::String\u001b[1m)\u001b[22m\u001b[22m at \u001b[1m./loading.jl:515\u001b[22m\u001b[22m"
     ]
    }
   ],
   "source": [
    "BR = [1.0, 1.9, 1.89]\n",
    "m,error = golden_search(f,BR)\n",
    "\n",
    "x = 1:1:length(error)\n",
    "\n",
    "semilogy(x,error, label=\"Observed error\", \"s\", markersize=ms)\n",
    "title(\"lin-log plot showing the error of the Golden-section search\")\n",
    "legend()\n",
    "grid()\n",
    "xlabel(\"Iteration number\")\n",
    "ylabel(\"Error (log scale)\")\n",
    "println(\"Minimum point: \", m)\n",
    "# I don't believe the minimum is actually the minimum error\n",
    "# because it is order 1e-10, below the theory...\n",
    "# so I'm assuming I should quote the value at the\n",
    "# flattened line?\n",
    "println(\"Best error: \", Float64(error[70]))"
   ]
  },
  {
   "cell_type": "markdown",
   "metadata": {},
   "source": [
    "To explain this consider Taylor's theorem and set $\\eta = x-x^{*}$ where $x^{*}$ satisfies $f'(x^{*})=0,f''(x^{*})>0$ (i.e a minimum of $f$). Since $\\eta+x^{*}=x$ we find\n",
    "\n",
    "\\begin{align*}\n",
    "    f(\\eta+x^{*}) &= f(x^{*})+f'(x^{*})\\eta + \\frac{\\eta^{2}}{2}f''(x^{*})+O(\\eta^{3})\n",
    "        = f(x^{*})+\\frac{\\eta^{2}}{2}f''(x^{*})+O(\\eta^{3}) \\\\\n",
    "        &\\Rightarrow f(\\eta+x^{*}) = f(x^{*})\\biggl(1+\\frac{f''(x^{*})}{2f(x^{*})}\\eta^{2}\\biggr)+O(\\eta^{3}) \n",
    "\\end{align*}\n",
    "\n",
    "Now using $\\eta+x^{*}=x$ and $\\eta=x-x^{*}$ we find the approximation\n",
    "\n",
    "\\begin{align*}\n",
    "    f(x) \\approx f(x^{*})\\biggl(1+\\frac{f''(x^{*})}{2f(x^{*})}(x-x^{*})^{2}\\biggr)\n",
    "\\end{align*}\n",
    "\n",
    "Now we define the machine epsilon as $\\epsilon_{m}$ where for the machine to differentiate $f(x),f(x^{*})$ we must have\n",
    "\n",
    "\\begin{align*}\n",
    "    \\biggl|\\frac{f(x)-f(x^{*})}{f(x^{*})}\\biggr| > \\epsilon_{m}\n",
    "\\end{align*}\n",
    "\n",
    "Therefor using our approximation we find\n",
    "\n",
    "\\begin{align*}\n",
    "    |f(x)-f(x^{*})| > \\epsilon_{m} &\\Rightarrow \\frac{\\biggl|f(x^{*})\\biggl(1+\\frac{f''(x^{*})}{2f(x^{*})}(x-x^{*})^{2}\\biggr)-f(x^{*})\\biggr|}{\\bigl|f(x^{*})\\bigr|}>\\epsilon_{m} \\\\\n",
    "    &\\Rightarrow \\biggl|\\frac{f''(x^{*})}{2f(x^{*})}(x-x^{*})^{2}\\biggr|>\\epsilon_{m} \\Rightarrow \\biggl|\\frac{f''(x^{*})}{2f(x^{*})}\\biggr|\\bigl|(x-x^{*})^{2}\\bigr|\n",
    "\\end{align*}\n",
    "\n",
    "Now since $\\sqrt{|x^{2}|} = \\sqrt{x^{2}} = |x|$ we can write\n",
    "\n",
    "\\begin{align*}\n",
    "    \\sqrt{\\biggl|\\frac{f''(x^{*})}{2f(x^{*})}\\biggr|}\\bigl|x-x^{*}\\bigr| > \\epsilon_{m} \\Rightarrow \\bigl|x-x^{*}\\bigr| > \\sqrt{\\epsilon_{m}}\\sqrt{\\frac{2f(x^{*})}{f''(x^{*})}}\n",
    "\\end{align*}\n",
    "    \n",
    "Now using this formula below we find the bound is of order $O(10^{-9})$, which is about the same as the best error in the Golden-section search above.\n",
    "    \n"
   ]
  },
  {
   "cell_type": "code",
   "execution_count": 12,
   "metadata": {
    "collapsed": false
   },
   "outputs": [
    {
     "data": {
      "text/plain": [
       "4.471919517502715e-9"
      ]
     },
     "execution_count": 12,
     "metadata": {},
     "output_type": "execute_result"
    }
   ],
   "source": [
    "k = log(3*pi/2.0)\n",
    "l = sqrt(eps())*sqrt(abs((2.0.*f.(k))/(f².(k))))"
   ]
  }
 ],
 "metadata": {
  "kernelspec": {
   "display_name": "Julia 0.6.0",
   "language": "julia",
   "name": "julia-0.6"
  },
  "language_info": {
   "file_extension": ".jl",
   "mimetype": "application/julia",
   "name": "julia",
   "version": "0.6.0"
  }
 },
 "nbformat": 4,
 "nbformat_minor": 1
}
